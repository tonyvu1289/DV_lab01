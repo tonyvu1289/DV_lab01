{
 "cells": [
  {
   "cell_type": "code",
   "execution_count": 1,
   "metadata": {},
   "outputs": [],
   "source": [
    "from bs4 import BeautifulSoup\n",
    "import requests\n",
    "import pandas as pd\n",
    "import re\n",
    "from datetime import date\n",
    "import datetime"
   ]
  },
  {
   "cell_type": "code",
   "execution_count": 3,
   "metadata": {},
   "outputs": [],
   "source": [
    "url = \"https://www.worldometers.info/gdp/gdp-by-country/\"\n",
    "data_html = requests.get(url).text\n",
    "data_html = re.sub(r'<.*?>', lambda g: g.group(0).upper(), data_html)\n",
    "df = pd.read_html(data_html)"
   ]
  },
  {
   "cell_type": "code",
   "execution_count": 7,
   "metadata": {},
   "outputs": [],
   "source": [
    "df[0].reset_index().drop(columns=['index','#']).to_csv('./data/gdp.csv')\n"
   ]
  }
 ],
 "metadata": {
  "interpreter": {
   "hash": "b202599383e94201a2084d5eea95fed4bd5c9252ec116c823be3a048927dfec6"
  },
  "kernelspec": {
   "display_name": "Python 3.9.7 ('base')",
   "language": "python",
   "name": "python3"
  },
  "language_info": {
   "codemirror_mode": {
    "name": "ipython",
    "version": 3
   },
   "file_extension": ".py",
   "mimetype": "text/x-python",
   "name": "python",
   "nbconvert_exporter": "python",
   "pygments_lexer": "ipython3",
   "version": "3.9.12"
  },
  "orig_nbformat": 4
 },
 "nbformat": 4,
 "nbformat_minor": 2
}
